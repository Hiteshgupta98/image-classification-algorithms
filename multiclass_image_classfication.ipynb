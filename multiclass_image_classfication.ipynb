{
  "nbformat": 4,
  "nbformat_minor": 0,
  "metadata": {
    "colab": {
      "name": "mnist.ipynb",
      "version": "0.3.2",
      "provenance": [],
      "collapsed_sections": [],
      "include_colab_link": true
    },
    "kernelspec": {
      "name": "python3",
      "display_name": "Python 3"
    },
    "accelerator": "TPU"
  },
  "cells": [
    {
      "cell_type": "markdown",
      "metadata": {
        "id": "view-in-github",
        "colab_type": "text"
      },
      "source": [
        "<a href=\"https://colab.research.google.com/github/eshaan90/image-classification/blob/master/multiclass_image_classfication.ipynb\" target=\"_parent\"><img src=\"https://colab.research.google.com/assets/colab-badge.svg\" alt=\"Open In Colab\"/></a>"
      ]
    },
    {
      "metadata": {
        "id": "VW4nNd3DcCjo",
        "colab_type": "code",
        "colab": {
          "base_uri": "https://localhost:8080/",
          "height": 34
        },
        "outputId": "2c85ddec-b6ba-45d4-831d-532e8aa9e954"
      },
      "cell_type": "code",
      "source": [
        "from keras import Sequential,layers,optimizers\n",
        "from keras.datasets import mnist\n",
        "from keras.utils import to_categorical\n",
        "from keras.preprocessing.image import ImageDataGenerator\n",
        "import matplotlib.pyplot as plt\n",
        "import numpy as np\n",
        "import pandas as pd\n",
        "import seaborn as sns\n",
        "%matplotlib inline"
      ],
      "execution_count": 1,
      "outputs": [
        {
          "output_type": "stream",
          "text": [
            "Using TensorFlow backend.\n"
          ],
          "name": "stderr"
        }
      ]
    },
    {
      "metadata": {
        "id": "mIuxvhDRcc7L",
        "colab_type": "code",
        "colab": {
          "base_uri": "https://localhost:8080/",
          "height": 51
        },
        "outputId": "9fecef95-53ba-4072-e673-305b49f5a00f"
      },
      "cell_type": "code",
      "source": [
        "(x_train, y_train), (x_test, y_test) = mnist.load_data()"
      ],
      "execution_count": 2,
      "outputs": [
        {
          "output_type": "stream",
          "text": [
            "Downloading data from https://s3.amazonaws.com/img-datasets/mnist.npz\n",
            "11493376/11490434 [==============================] - 1s 0us/step\n"
          ],
          "name": "stdout"
        }
      ]
    },
    {
      "metadata": {
        "id": "XVhQKL9gcdBi",
        "colab_type": "code",
        "colab": {}
      },
      "cell_type": "code",
      "source": [
        "    x_train=x_train.reshape((60000,28,28,1))\n",
        "    x_train=x_train.astype('float32')/255\n",
        "    \n",
        "    x_test=x_test.reshape((10000,28,28,1))\n",
        "    x_test=x_test.astype('float32')/255"
      ],
      "execution_count": 0,
      "outputs": []
    },
    {
      "metadata": {
        "id": "RBJcpEzrcc-6",
        "colab_type": "code",
        "colab": {
          "base_uri": "https://localhost:8080/",
          "height": 318
        },
        "outputId": "eaa87ae5-5e63-46cf-bc8c-dacc65c4a644"
      },
      "cell_type": "code",
      "source": [
        "sns.countplot(y_train)"
      ],
      "execution_count": 4,
      "outputs": [
        {
          "output_type": "stream",
          "text": [
            "/usr/local/lib/python3.6/dist-packages/seaborn/categorical.py:1428: FutureWarning: remove_na is deprecated and is a private function. Do not use.\n",
            "  stat_data = remove_na(group_data)\n"
          ],
          "name": "stderr"
        },
        {
          "output_type": "execute_result",
          "data": {
            "text/plain": [
              "<matplotlib.axes._subplots.AxesSubplot at 0x7fc75a1ee978>"
            ]
          },
          "metadata": {
            "tags": []
          },
          "execution_count": 4
        },
        {
          "output_type": "display_data",
          "data": {
            "image/png": "[encoded data removed]",
            "text/plain": [
              "<Figure size 432x288 with 1 Axes>"
            ]
          },
          "metadata": {
            "tags": []
          }
        }
      ]
    },
    {
      "metadata": {
        "id": "3rUlNRy5cc4e",
        "colab_type": "code",
        "colab": {
          "base_uri": "https://localhost:8080/",
          "height": 533
        },
        "outputId": "7122ed5b-6637-4b2f-bf38-67ed6d3a160f"
      },
      "cell_type": "code",
      "source": [
        "# preview the images first\n",
        "plt.figure(figsize=(12,10))\n",
        "x, y = 10, 4\n",
        "for i in range(40):  \n",
        "    plt.subplot(y, x, i+1)\n",
        "    plt.imshow(x_train[i].reshape((28,28)),interpolation='nearest')\n",
        "plt.show()"
      ],
      "execution_count": 5,
      "outputs": [
        {
          "output_type": "display_data",
          "data": {
            "image/png": "[encoded data removed]",
            "text/plain": [
              "<Figure size 864x720 with 40 Axes>"
            ]
          },
          "metadata": {
            "tags": []
          }
        }
      ]
    },
    {
      "metadata": {
        "id": "rbBwGsRPe1SC",
        "colab_type": "code",
        "colab": {}
      },
      "cell_type": "code",
      "source": [
        "batch_size = 64\n",
        "num_classes = 10\n",
        "epochs = 20\n",
        "alpha=0.001\n",
        "input_shape = (28,28,1)\n",
        "activation='relu'"
      ],
      "execution_count": 0,
      "outputs": []
    },
    {
      "metadata": {
        "id": "mw6UOm1Oe1Yq",
        "colab_type": "code",
        "colab": {
          "base_uri": "https://localhost:8080/",
          "height": 34
        },
        "outputId": "da8d7ce9-8c6a-4b7e-c1c6-a4db5575e941"
      },
      "cell_type": "code",
      "source": [
        "y_train = to_categorical(y_train,num_classes)\n",
        "y_test = to_categorical(y_test,num_classes)\n",
        "y_train.shape, y_test.shape"
      ],
      "execution_count": 7,
      "outputs": [
        {
          "output_type": "execute_result",
          "data": {
            "text/plain": [
              "((60000, 10), (10000, 10))"
            ]
          },
          "metadata": {
            "tags": []
          },
          "execution_count": 7
        }
      ]
    },
    {
      "metadata": {
        "id": "_1HpEKEx2BJQ",
        "colab_type": "code",
        "colab": {}
      },
      "cell_type": "code",
      "source": [
        "from sklearn.model_selection import train_test_split \n",
        "x_train, x_val, y_train, y_val = train_test_split(x_train, y_train, test_size = 0.1, random_state=42)"
      ],
      "execution_count": 0,
      "outputs": []
    },
    {
      "metadata": {
        "id": "CaaeElySe1kx",
        "colab_type": "code",
        "colab": {
          "base_uri": "https://localhost:8080/",
          "height": 108
        },
        "outputId": "856e6d39-9a3f-41cc-f7f8-de89bdf5d344"
      },
      "cell_type": "code",
      "source": [
        "model = Sequential()\n",
        "model.add(layers.Conv2D(32,(3,3),activation=activation,input_shape=(28,28,1)))\n",
        "model.add(layers.MaxPooling2D((2,2)))\n",
        "model.add(layers.Conv2D(64,(3,3),activation=activation))\n",
        "model.add(layers.MaxPooling2D((2,2)))\n",
        "model.add(layers.Flatten())\n",
        "model.add(layers.Dense(64,activation=activation))\n",
        "model.add(layers.Dense(10,activation='softmax'))\n",
        "#model.add(Flatten())\n",
        "#model.add(Dense(128, activation='relu'))\n",
        "#model.add(BatchNormalization())\n",
        "#model.add(Dropout(0.25))\n",
        "#model.add(Dense(num_classes, activation='softmax'))\n"
      ],
      "execution_count": 9,
      "outputs": [
        {
          "output_type": "stream",
          "text": [
            "WARNING:tensorflow:From /usr/local/lib/python3.6/dist-packages/tensorflow/python/framework/op_def_library.py:263: colocate_with (from tensorflow.python.framework.ops) is deprecated and will be removed in a future version.\n",
            "Instructions for updating:\n",
            "Colocations handled automatically by placer.\n"
          ],
          "name": "stdout"
        }
      ]
    },
    {
      "metadata": {
        "id": "Bab_-z9qmyxU",
        "colab_type": "code",
        "colab": {
          "base_uri": "https://localhost:8080/",
          "height": 374
        },
        "outputId": "b06ac0ce-7bda-4d66-9f22-1499e33e5163"
      },
      "cell_type": "code",
      "source": [
        "model.summary()"
      ],
      "execution_count": 10,
      "outputs": [
        {
          "output_type": "stream",
          "text": [
            "_________________________________________________________________\n",
            "Layer (type)                 Output Shape              Param #   \n",
            "=================================================================\n",
            "conv2d_1 (Conv2D)            (None, 26, 26, 32)        320       \n",
            "_________________________________________________________________\n",
            "max_pooling2d_1 (MaxPooling2 (None, 13, 13, 32)        0         \n",
            "_________________________________________________________________\n",
            "conv2d_2 (Conv2D)            (None, 11, 11, 64)        18496     \n",
            "_________________________________________________________________\n",
            "max_pooling2d_2 (MaxPooling2 (None, 5, 5, 64)          0         \n",
            "_________________________________________________________________\n",
            "flatten_1 (Flatten)          (None, 1600)              0         \n",
            "_________________________________________________________________\n",
            "dense_1 (Dense)              (None, 64)                102464    \n",
            "_________________________________________________________________\n",
            "dense_2 (Dense)              (None, 10)                650       \n",
            "=================================================================\n",
            "Total params: 121,930\n",
            "Trainable params: 121,930\n",
            "Non-trainable params: 0\n",
            "_________________________________________________________________\n"
          ],
          "name": "stdout"
        }
      ]
    },
    {
      "metadata": {
        "id": "GDq7XGRto663",
        "colab_type": "code",
        "colab": {
          "base_uri": "https://localhost:8080/",
          "height": 374
        },
        "outputId": "6c323680-c899-4bcc-fb5c-12d1b3d45efc"
      },
      "cell_type": "code",
      "source": [
        "model.layers[2].get_config()"
      ],
      "execution_count": 11,
      "outputs": [
        {
          "output_type": "execute_result",
          "data": {
            "text/plain": [
              "{'activation': 'relu',\n",
              " 'activity_regularizer': None,\n",
              " 'bias_constraint': None,\n",
              " 'bias_initializer': {'class_name': 'Zeros', 'config': {}},\n",
              " 'bias_regularizer': None,\n",
              " 'data_format': 'channels_last',\n",
              " 'dilation_rate': (1, 1),\n",
              " 'filters': 64,\n",
              " 'kernel_constraint': None,\n",
              " 'kernel_initializer': {'class_name': 'VarianceScaling',\n",
              "  'config': {'distribution': 'uniform',\n",
              "   'mode': 'fan_avg',\n",
              "   'scale': 1.0,\n",
              "   'seed': None}},\n",
              " 'kernel_regularizer': None,\n",
              " 'kernel_size': (3, 3),\n",
              " 'name': 'conv2d_2',\n",
              " 'padding': 'valid',\n",
              " 'strides': (1, 1),\n",
              " 'trainable': True,\n",
              " 'use_bias': True}"
            ]
          },
          "metadata": {
            "tags": []
          },
          "execution_count": 11
        }
      ]
    },
    {
      "metadata": {
        "id": "M61KmwgKpFxE",
        "colab_type": "code",
        "colab": {
          "base_uri": "https://localhost:8080/",
          "height": 34
        },
        "outputId": "06d70803-0e64-4cf3-a4ff-38eb964da93f"
      },
      "cell_type": "code",
      "source": [
        "model.count_params()"
      ],
      "execution_count": 12,
      "outputs": [
        {
          "output_type": "execute_result",
          "data": {
            "text/plain": [
              "121930"
            ]
          },
          "metadata": {
            "tags": []
          },
          "execution_count": 12
        }
      ]
    },
    {
      "metadata": {
        "id": "7aPy8rUUxpiF",
        "colab_type": "code",
        "colab": {
          "base_uri": "https://localhost:8080/",
          "height": 34
        },
        "outputId": "dbeb0f48-8239-4609-ce5b-74fb9d21be53"
      },
      "cell_type": "code",
      "source": [
        "x_train.shape"
      ],
      "execution_count": 13,
      "outputs": [
        {
          "output_type": "execute_result",
          "data": {
            "text/plain": [
              "(54000, 28, 28, 1)"
            ]
          },
          "metadata": {
            "tags": []
          },
          "execution_count": 13
        }
      ]
    },
    {
      "metadata": {
        "id": "h9gHmm9Yo4wI",
        "colab_type": "code",
        "colab": {}
      },
      "cell_type": "code",
      "source": [
        "datagen = ImageDataGenerator(\n",
        "        featurewise_center=False,  # set input mean to 0 over the dataset\n",
        "        samplewise_center=False,  # set each sample mean to 0\n",
        "        featurewise_std_normalization=False,  # divide inputs by std of the dataset\n",
        "        samplewise_std_normalization=False,  # divide each input by its std\n",
        "        zca_whitening=False,  # apply ZCA whitening\n",
        "        rotation_range=15, # randomly rotate images in the range (degrees, 0 to 180)\n",
        "        zoom_range = 0.1, # Randomly zoom image \n",
        "        width_shift_range=0.1,  # randomly shift images horizontally (fraction of total width)\n",
        "        height_shift_range=0.1,  # randomly shift images vertically (fraction of total height)\n",
        "        horizontal_flip=False,  # randomly flip images\n",
        "        vertical_flip=False)  # randomly flip images\n",
        "\n",
        "datagen.fit(x_train)"
      ],
      "execution_count": 0,
      "outputs": []
    },
    {
      "metadata": {
        "id": "swqHuExXp5p4",
        "colab_type": "code",
        "colab": {}
      },
      "cell_type": "code",
      "source": [
        "from keras.callbacks import ReduceLROnPlateau\n",
        "model.compile(loss='categorical_crossentropy',\n",
        "              optimizer=optimizers.RMSprop(lr=alpha),\n",
        "              metrics=['accuracy'])\n",
        "\n",
        "learning_rate_reduction = ReduceLROnPlateau(monitor='val_acc', \n",
        "                                            patience=3, \n",
        "                                            verbose=1, \n",
        "                                            factor=0.5, \n",
        "                                            min_lr=0.0001)"
      ],
      "execution_count": 0,
      "outputs": []
    },
    {
      "metadata": {
        "id": "3VrWzrUep5vA",
        "colab_type": "code",
        "colab": {
          "base_uri": "https://localhost:8080/",
          "height": 1020
        },
        "outputId": "58f017da-5ff9-4560-9f61-0d7692815a33"
      },
      "cell_type": "code",
      "source": [
        "history = model.fit_generator(datagen.flow(x_train,y_train, batch_size=batch_size), \n",
        "                        epochs = epochs, validation_data=(x_val, y_val),\n",
        "                        verbose = 1, steps_per_epoch=x_train.shape[0]/32,\n",
        "                        callbacks=[learning_rate_reduction])"
      ],
      "execution_count": 16,
      "outputs": [
        {
          "output_type": "stream",
          "text": [
            "WARNING:tensorflow:From /usr/local/lib/python3.6/dist-packages/tensorflow/python/ops/math_ops.py:3066: to_int32 (from tensorflow.python.ops.math_ops) is deprecated and will be removed in a future version.\n",
            "Instructions for updating:\n",
            "Use tf.cast instead.\n",
            "Epoch 1/20\n",
            "1688/1687 [==============================] - 126s 75ms/step - loss: 0.2636 - acc: 0.9175 - val_loss: 0.0553 - val_acc: 0.9833\n",
            "Epoch 2/20\n",
            "1688/1687 [==============================] - 125s 74ms/step - loss: 0.0894 - acc: 0.9728 - val_loss: 0.0502 - val_acc: 0.9843\n",
            "Epoch 3/20\n",
            "1688/1687 [==============================] - 125s 74ms/step - loss: 0.0651 - acc: 0.9794 - val_loss: 0.0296 - val_acc: 0.9918\n",
            "Epoch 4/20\n",
            "1688/1687 [==============================] - 125s 74ms/step - loss: 0.0553 - acc: 0.9832 - val_loss: 0.0314 - val_acc: 0.9903\n",
            "Epoch 5/20\n",
            "1688/1687 [==============================] - 123s 73ms/step - loss: 0.0502 - acc: 0.9844 - val_loss: 0.0279 - val_acc: 0.9930\n",
            "Epoch 6/20\n",
            "1688/1687 [==============================] - 123s 73ms/step - loss: 0.0448 - acc: 0.9868 - val_loss: 0.0353 - val_acc: 0.9913\n",
            "Epoch 7/20\n",
            "1688/1687 [==============================] - 123s 73ms/step - loss: 0.0429 - acc: 0.9872 - val_loss: 0.0290 - val_acc: 0.9927\n",
            "Epoch 8/20\n",
            "1688/1687 [==============================] - 123s 73ms/step - loss: 0.0405 - acc: 0.9880 - val_loss: 0.0409 - val_acc: 0.9898\n",
            "\n",
            "Epoch 00008: ReduceLROnPlateau reducing learning rate to 0.0005000000237487257.\n",
            "Epoch 9/20\n",
            "1688/1687 [==============================] - 123s 73ms/step - loss: 0.0328 - acc: 0.9901 - val_loss: 0.0302 - val_acc: 0.9923\n",
            "Epoch 10/20\n",
            "1688/1687 [==============================] - 123s 73ms/step - loss: 0.0324 - acc: 0.9905 - val_loss: 0.0257 - val_acc: 0.9942\n",
            "Epoch 11/20\n",
            "1688/1687 [==============================] - 124s 73ms/step - loss: 0.0305 - acc: 0.9909 - val_loss: 0.0314 - val_acc: 0.9930\n",
            "Epoch 12/20\n",
            "1688/1687 [==============================] - 124s 73ms/step - loss: 0.0311 - acc: 0.9909 - val_loss: 0.0300 - val_acc: 0.9938\n",
            "Epoch 13/20\n",
            "1688/1687 [==============================] - 124s 74ms/step - loss: 0.0312 - acc: 0.9908 - val_loss: 0.0287 - val_acc: 0.9923\n",
            "\n",
            "Epoch 00013: ReduceLROnPlateau reducing learning rate to 0.0002500000118743628.\n",
            "Epoch 14/20\n",
            "1688/1687 [==============================] - 124s 73ms/step - loss: 0.0274 - acc: 0.9916 - val_loss: 0.0321 - val_acc: 0.9928\n",
            "Epoch 15/20\n",
            "1688/1687 [==============================] - 124s 73ms/step - loss: 0.0263 - acc: 0.9922 - val_loss: 0.0312 - val_acc: 0.9933\n",
            "Epoch 16/20\n",
            "1688/1687 [==============================] - 124s 74ms/step - loss: 0.0265 - acc: 0.9923 - val_loss: 0.0365 - val_acc: 0.9925\n",
            "\n",
            "Epoch 00016: ReduceLROnPlateau reducing learning rate to 0.0001250000059371814.\n",
            "Epoch 17/20\n",
            "1688/1687 [==============================] - 124s 73ms/step - loss: 0.0253 - acc: 0.9924 - val_loss: 0.0386 - val_acc: 0.9920\n",
            "Epoch 18/20\n",
            "1688/1687 [==============================] - 125s 74ms/step - loss: 0.0255 - acc: 0.9924 - val_loss: 0.0369 - val_acc: 0.9920\n",
            "Epoch 19/20\n",
            "1688/1687 [==============================] - 124s 73ms/step - loss: 0.0258 - acc: 0.9923 - val_loss: 0.0406 - val_acc: 0.9917\n",
            "\n",
            "Epoch 00019: ReduceLROnPlateau reducing learning rate to 0.0001.\n",
            "Epoch 20/20\n",
            "1688/1687 [==============================] - 123s 73ms/step - loss: 0.0239 - acc: 0.9926 - val_loss: 0.0403 - val_acc: 0.9917\n"
          ],
          "name": "stdout"
        }
      ]
    },
    {
      "metadata": {
        "id": "BfeTLEHcp5zH",
        "colab_type": "code",
        "colab": {
          "base_uri": "https://localhost:8080/",
          "height": 330
        },
        "outputId": "f5602cc7-007e-4a7c-f9b7-13401a3e1e2a"
      },
      "cell_type": "code",
      "source": [
        "loss=history.history['loss']\n",
        "val_loss=history.history['val_loss']\n",
        "epochs=range(epochs)\n",
        "plt.plot(epochs, loss, 'bo', label='training loss')\n",
        "plt.plot(epochs, val_loss, 'b', label='validation loss')\n",
        "plt.legend()\n",
        "plt.xlabel('Number of Epochs')\n",
        "plt.ylabel('Loss Percentage')\n",
        "plt.grid('on')"
      ],
      "execution_count": 19,
      "outputs": [
        {
          "output_type": "stream",
          "text": [
            "/usr/local/lib/python3.6/dist-packages/matplotlib/cbook/__init__.py:424: MatplotlibDeprecationWarning: \n",
            "Passing one of 'on', 'true', 'off', 'false' as a boolean is deprecated; use an actual boolean (True/False) instead.\n",
            "  warn_deprecated(\"2.2\", \"Passing one of 'on', 'true', 'off', 'false' as a \"\n"
          ],
          "name": "stderr"
        },
        {
          "output_type": "display_data",
          "data": {
            "image/png": "[encoded data removed]",
            "text/plain": [
              "<Figure size 432x288 with 1 Axes>"
            ]
          },
          "metadata": {
            "tags": []
          }
        }
      ]
    },
    {
      "metadata": {
        "id": "Kc_xhxSee1V-",
        "colab_type": "code",
        "colab": {
          "base_uri": "https://localhost:8080/",
          "height": 330
        },
        "outputId": "3aaf2aa5-a679-4536-8078-dd936b7a0c80"
      },
      "cell_type": "code",
      "source": [
        "acc=history.history['acc']\n",
        "val_acc=history.history['val_acc']\n",
        "\n",
        "plt.plot(epochs, loss, 'bo', label='training acc')\n",
        "plt.plot(epochs, val_loss, 'b', label='validation acc')\n",
        "plt.legend()\n",
        "plt.xlabel('Number of Epochs')\n",
        "plt.ylabel('Accuracy Percentage')\n",
        "plt.grid('on')"
      ],
      "execution_count": 20,
      "outputs": [
        {
          "output_type": "stream",
          "text": [
            "/usr/local/lib/python3.6/dist-packages/matplotlib/cbook/__init__.py:424: MatplotlibDeprecationWarning: \n",
            "Passing one of 'on', 'true', 'off', 'false' as a boolean is deprecated; use an actual boolean (True/False) instead.\n",
            "  warn_deprecated(\"2.2\", \"Passing one of 'on', 'true', 'off', 'false' as a \"\n"
          ],
          "name": "stderr"
        },
        {
          "output_type": "display_data",
          "data": {
            "image/png": "[encoded data removed]",
            "text/plain": [
              "<Figure size 432x288 with 1 Axes>"
            ]
          },
          "metadata": {
            "tags": []
          }
        }
      ]
    },
    {
      "metadata": {
        "id": "g9d7f5lU8Cdj",
        "colab_type": "code",
        "colab": {}
      },
      "cell_type": "code",
      "source": [
        "model.save('mnist_model_1.h5')\n",
        "json_string = model.to_json()"
      ],
      "execution_count": 0,
      "outputs": []
    },
    {
      "metadata": {
        "id": "nOywHqPc8Clq",
        "colab_type": "code",
        "colab": {}
      },
      "cell_type": "code",
      "source": [
        ""
      ],
      "execution_count": 0,
      "outputs": []
    },
    {
      "metadata": {
        "id": "YwHGSneA8CuM",
        "colab_type": "code",
        "colab": {}
      },
      "cell_type": "code",
      "source": [
        ""
      ],
      "execution_count": 0,
      "outputs": []
    },
    {
      "metadata": {
        "id": "ytvR6khU8Cqj",
        "colab_type": "code",
        "colab": {}
      },
      "cell_type": "code",
      "source": [
        ""
      ],
      "execution_count": 0,
      "outputs": []
    },
    {
      "metadata": {
        "id": "gDw_ixIy8CiT",
        "colab_type": "code",
        "colab": {}
      },
      "cell_type": "code",
      "source": [
        ""
      ],
      "execution_count": 0,
      "outputs": []
    }
  ]
}